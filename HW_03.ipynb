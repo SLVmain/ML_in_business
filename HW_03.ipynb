{
  "nbformat": 4,
  "nbformat_minor": 0,
  "metadata": {
    "colab": {
      "name": "HW_03.ipynb",
      "provenance": [],
      "collapsed_sections": []
    },
    "kernelspec": {
      "name": "python3",
      "display_name": "Python 3"
    },
    "language_info": {
      "name": "python"
    }
  },
  "cells": [
    {
      "cell_type": "markdown",
      "metadata": {
        "id": "h5KNRccQnu2h"
      },
      "source": [
        "# **Домашнее задание**"
      ]
    },
    {
      "cell_type": "markdown",
      "metadata": {
        "id": "Sl0emZFrn5_G"
      },
      "source": [
        "1. обучить несколько разных моделей на наборе данных ССЗ (train_case2.csv): логрег, бустинг, лес и т.д - на ваш выбор 2-3 варианта\n",
        "2. при обучении моделей обязательно использовать кроссвалидацию\n",
        "3. вывести сравнение полученных моделей по основным метрикам классификации: pr/rec/auc/f_score (можно в виде таблицы, где строки - модели, а столбцы - метрики)\n",
        "4. сделать выводы о том, какая модель справилась с задачей лучше других\n",
        "5. (опциональный вопрос) какая метрика (precision_recall_curve или roc_auc_curve) больше подходит в случае сильного дисбаланса классов? (когда объектов одного из классов намного больше чем другого). \n",
        "\n",
        "p.s.В вопросе проще разобраться, если вспомнить оси на графике roc auc curve и рассмотреть такой пример:\n",
        "\n",
        "Имеется 100000 объектов, из которых только 100 - класс \"1\" (99900 - класс \"0\", соответственно). \n",
        "Допустим, у нас две модели:\n",
        "\n",
        "- первая помечает 100 объектов как класс 1, но TP = 90\n",
        "- вторая помечает 1000 объектов как класс 1, но TP такой же - 90\n",
        "\n",
        "Какая модель лучше и почему? И что позволяет легче сделать вывод - roc_auc_curve или precision_recall_curve?\n",
        "6. (опциональный вопрос) Найти порог классификации по деньгам (Стоимость лечения 15000 р, если сделали тест и начали лечить вовремя. Стоимость лечения 20000, если упустили и начали лечить когда уже проявились все симптомы. Стоимость теста 1400 р)\n"
      ]
    },
    {
      "cell_type": "code",
      "metadata": {
        "id": "3KJjKHcjwViv"
      },
      "source": [
        "import numpy as np\n",
        "import pandas as pd\n",
        "import itertools\n",
        "\n",
        "from sklearn.feature_extraction.text import TfidfVectorizer\n",
        "from sklearn.linear_model import LogisticRegression\n",
        "from sklearn.ensemble import RandomForestClassifier, GradientBoostingClassifier\n",
        "from sklearn.model_selection import cross_val_score, train_test_split\n",
        "from scipy.sparse import hstack\n",
        "from sklearn.pipeline import Pipeline, make_pipeline\n",
        "from sklearn.base import BaseEstimator, TransformerMixin\n",
        "from sklearn.preprocessing import StandardScaler\n",
        "from sklearn.pipeline import FeatureUnion\n",
        "from sklearn.metrics import roc_auc_score, log_loss\n",
        "from sklearn.metrics import precision_recall_curve, roc_curve, roc_auc_score, confusion_matrix"
      ],
      "execution_count": 24,
      "outputs": []
    },
    {
      "cell_type": "code",
      "metadata": {
        "colab": {
          "base_uri": "https://localhost:8080/"
        },
        "id": "YJFx3tkB-qlK",
        "outputId": "363eefbb-7562-45d9-f9cf-274b9c66c827"
      },
      "source": [
        "from google.colab import drive\n",
        "drive.mount('/content/gdrive')"
      ],
      "execution_count": 3,
      "outputs": [
        {
          "output_type": "stream",
          "text": [
            "Mounted at /content/gdrive\n"
          ],
          "name": "stdout"
        }
      ]
    },
    {
      "cell_type": "code",
      "metadata": {
        "colab": {
          "base_uri": "https://localhost:8080/"
        },
        "id": "H6A1Nw_g-mvg",
        "outputId": "7c815fd1-dd44-4e14-8a54-d10b69809b73"
      },
      "source": [
        "!ls /content/gdrive/MyDrive/'Colab Notebooks'/ML_in_business/les_03"
      ],
      "execution_count": 4,
      "outputs": [
        {
          "output_type": "stream",
          "text": [
            "HW_03.ipynb  kc_house_data.csv\ttrain_case2.csv  train.csv\n"
          ],
          "name": "stdout"
        }
      ]
    },
    {
      "cell_type": "code",
      "metadata": {
        "colab": {
          "base_uri": "https://localhost:8080/",
          "height": 142
        },
        "id": "y8VT2YfJ9cie",
        "outputId": "60acd5ef-7028-4850-c4e3-ec1db2b18911"
      },
      "source": [
        "df = pd.read_csv('/content/gdrive/MyDrive/Colab Notebooks/ML_in_business/les_03/train_case2.csv', ';')\n",
        "df.head(3)"
      ],
      "execution_count": 5,
      "outputs": [
        {
          "output_type": "execute_result",
          "data": {
            "text/html": [
              "<div>\n",
              "<style scoped>\n",
              "    .dataframe tbody tr th:only-of-type {\n",
              "        vertical-align: middle;\n",
              "    }\n",
              "\n",
              "    .dataframe tbody tr th {\n",
              "        vertical-align: top;\n",
              "    }\n",
              "\n",
              "    .dataframe thead th {\n",
              "        text-align: right;\n",
              "    }\n",
              "</style>\n",
              "<table border=\"1\" class=\"dataframe\">\n",
              "  <thead>\n",
              "    <tr style=\"text-align: right;\">\n",
              "      <th></th>\n",
              "      <th>id</th>\n",
              "      <th>age</th>\n",
              "      <th>gender</th>\n",
              "      <th>height</th>\n",
              "      <th>weight</th>\n",
              "      <th>ap_hi</th>\n",
              "      <th>ap_lo</th>\n",
              "      <th>cholesterol</th>\n",
              "      <th>gluc</th>\n",
              "      <th>smoke</th>\n",
              "      <th>alco</th>\n",
              "      <th>active</th>\n",
              "      <th>cardio</th>\n",
              "    </tr>\n",
              "  </thead>\n",
              "  <tbody>\n",
              "    <tr>\n",
              "      <th>0</th>\n",
              "      <td>0</td>\n",
              "      <td>18393</td>\n",
              "      <td>2</td>\n",
              "      <td>168</td>\n",
              "      <td>62.0</td>\n",
              "      <td>110</td>\n",
              "      <td>80</td>\n",
              "      <td>1</td>\n",
              "      <td>1</td>\n",
              "      <td>0</td>\n",
              "      <td>0</td>\n",
              "      <td>1</td>\n",
              "      <td>0</td>\n",
              "    </tr>\n",
              "    <tr>\n",
              "      <th>1</th>\n",
              "      <td>1</td>\n",
              "      <td>20228</td>\n",
              "      <td>1</td>\n",
              "      <td>156</td>\n",
              "      <td>85.0</td>\n",
              "      <td>140</td>\n",
              "      <td>90</td>\n",
              "      <td>3</td>\n",
              "      <td>1</td>\n",
              "      <td>0</td>\n",
              "      <td>0</td>\n",
              "      <td>1</td>\n",
              "      <td>1</td>\n",
              "    </tr>\n",
              "    <tr>\n",
              "      <th>2</th>\n",
              "      <td>2</td>\n",
              "      <td>18857</td>\n",
              "      <td>1</td>\n",
              "      <td>165</td>\n",
              "      <td>64.0</td>\n",
              "      <td>130</td>\n",
              "      <td>70</td>\n",
              "      <td>3</td>\n",
              "      <td>1</td>\n",
              "      <td>0</td>\n",
              "      <td>0</td>\n",
              "      <td>0</td>\n",
              "      <td>1</td>\n",
              "    </tr>\n",
              "  </tbody>\n",
              "</table>\n",
              "</div>"
            ],
            "text/plain": [
              "   id    age  gender  height  weight  ...  gluc  smoke  alco  active  cardio\n",
              "0   0  18393       2     168    62.0  ...     1      0     0       1       0\n",
              "1   1  20228       1     156    85.0  ...     1      0     0       1       1\n",
              "2   2  18857       1     165    64.0  ...     1      0     0       0       1\n",
              "\n",
              "[3 rows x 13 columns]"
            ]
          },
          "metadata": {
            "tags": []
          },
          "execution_count": 5
        }
      ]
    },
    {
      "cell_type": "code",
      "metadata": {
        "colab": {
          "base_uri": "https://localhost:8080/"
        },
        "id": "0a_xVg8a9hbg",
        "outputId": "ee83abb8-7344-4b5d-a42a-6e75e8f82887"
      },
      "source": [
        "X_train, X_test, y_train, y_test = train_test_split(df.drop('cardio', 1), \n",
        "                                                    df['cardio'], random_state=0)\n",
        "\n",
        "X_train.shape, y_train.shape, X_test.shape, y_test.shape"
      ],
      "execution_count": 6,
      "outputs": [
        {
          "output_type": "execute_result",
          "data": {
            "text/plain": [
              "((52500, 12), (52500,), (17500, 12), (17500,))"
            ]
          },
          "metadata": {
            "tags": []
          },
          "execution_count": 6
        }
      ]
    },
    {
      "cell_type": "markdown",
      "metadata": {
        "id": "r0usMfuBA8mf"
      },
      "source": [
        "К полям:\n",
        "- gender, cholesterol применим OHE-кодирование\n",
        "- age, height, weight, ap_hi, ap_lo - standardScaler\n",
        "- gluc, smoke, alco, active - оставим пока как есть"
      ]
    },
    {
      "cell_type": "code",
      "metadata": {
        "id": "15dPizWVA4BW"
      },
      "source": [
        "class ColumnSelector(BaseEstimator, TransformerMixin):\n",
        "    \"\"\"\n",
        "    Transformer to select a single column from the data frame to perform additional transformations on\n",
        "    \"\"\"\n",
        "    def __init__(self, key):\n",
        "        self.key = key\n",
        "\n",
        "    def fit(self, X, y=None):\n",
        "        return self\n",
        "\n",
        "    def transform(self, X):\n",
        "        return X[self.key]\n",
        "    \n",
        "class NumberSelector(BaseEstimator, TransformerMixin):\n",
        "    \"\"\"\n",
        "    Transformer to select a single column from the data frame to perform additional transformations on\n",
        "    Use on numeric columns in the data\n",
        "    \"\"\"\n",
        "    def __init__(self, key):\n",
        "        self.key = key\n",
        "\n",
        "    def fit(self, X, y=None):\n",
        "        return self\n",
        "\n",
        "    def transform(self, X):\n",
        "        return X[[self.key]]\n",
        "    \n",
        "class OHEEncoder(BaseEstimator, TransformerMixin):\n",
        "    def __init__(self, key):\n",
        "        self.key = key\n",
        "        self.columns = []\n",
        "\n",
        "    def fit(self, X, y=None):\n",
        "        self.columns = [col for col in pd.get_dummies(X, prefix=self.key).columns]\n",
        "        return self\n",
        "\n",
        "    def transform(self, X):\n",
        "        X = pd.get_dummies(X, prefix=self.key)\n",
        "        test_columns = [col for col in X.columns]\n",
        "        for col_ in test_columns:\n",
        "            if col_ not in self.columns:\n",
        "                X[col_] = 0\n",
        "        return X[self.columns]"
      ],
      "execution_count": 7,
      "outputs": []
    },
    {
      "cell_type": "code",
      "metadata": {
        "id": "16w8RVJHBQlr"
      },
      "source": [
        "continuos_cols = ['age', 'height', 'weight', 'ap_hi', 'ap_lo']\n",
        "cat_cols = ['gender', 'cholesterol']\n",
        "base_cols = ['gluc', 'smoke', 'alco', 'active']\n",
        "\n",
        "continuos_transformers = []\n",
        "cat_transformers = []\n",
        "base_transformers = []\n",
        "\n",
        "for cont_col in continuos_cols:\n",
        "    transfomer =  Pipeline([\n",
        "                ('selector', NumberSelector(key=cont_col)),\n",
        "                ('standard', StandardScaler())\n",
        "            ])\n",
        "    continuos_transformers.append((cont_col, transfomer))\n",
        "    \n",
        "for cat_col in cat_cols:\n",
        "    cat_transformer = Pipeline([\n",
        "                ('selector', ColumnSelector(key=cat_col)),\n",
        "                ('ohe', OHEEncoder(key=cat_col))\n",
        "            ])\n",
        "    cat_transformers.append((cat_col, cat_transformer))\n",
        "    \n",
        "for base_col in base_cols:\n",
        "    base_transformer = Pipeline([\n",
        "                ('selector', NumberSelector(key=base_col))\n",
        "            ])\n",
        "    base_transformers.append((base_col, base_transformer))"
      ],
      "execution_count": 8,
      "outputs": []
    },
    {
      "cell_type": "code",
      "metadata": {
        "colab": {
          "base_uri": "https://localhost:8080/"
        },
        "id": "eMbgSjF3BRYu",
        "outputId": "97471b49-4974-44f5-ec08-3e85773308df"
      },
      "source": [
        "feats = FeatureUnion(continuos_transformers+cat_transformers+base_transformers)\n",
        "feature_processing = Pipeline([('feats', feats)])\n",
        "\n",
        "feature_processing.fit_transform(X_train)"
      ],
      "execution_count": 9,
      "outputs": [
        {
          "output_type": "execute_result",
          "data": {
            "text/plain": [
              "array([[-1.73391771,  0.6873301 ,  0.74843904, ...,  1.        ,\n",
              "         0.        ,  1.        ],\n",
              "       [-1.67343538,  0.07758923, -0.29640123, ...,  0.        ,\n",
              "         0.        ,  1.        ],\n",
              "       [ 0.13738132,  1.17512278, -0.15708919, ...,  0.        ,\n",
              "         0.        ,  0.        ],\n",
              "       ...,\n",
              "       [ 1.17775864,  1.17512278, -0.15708919, ...,  0.        ,\n",
              "         0.        ,  1.        ],\n",
              "       [-0.47190715, -1.38578883,  0.74843904, ...,  0.        ,\n",
              "         0.        ,  1.        ],\n",
              "       [ 0.38174619,  0.56538192, -0.08743318, ...,  0.        ,\n",
              "         0.        ,  1.        ]])"
            ]
          },
          "metadata": {
            "tags": []
          },
          "execution_count": 9
        }
      ]
    },
    {
      "cell_type": "code",
      "metadata": {
        "colab": {
          "base_uri": "https://localhost:8080/"
        },
        "id": "p5-GqZgbBWJw",
        "outputId": "07a2c4bd-fd66-4d5d-a9ed-4c4f00fcb4e8"
      },
      "source": [
        "models_list = {\"LogisticReg\": LogisticRegression(C = 0.10,random_state = 42), \n",
        "               \"RandomForest\": RandomForestClassifier(random_state = 42), \n",
        "               \"GradientBoosting\": GradientBoostingClassifier(random_state = 42)\n",
        "               }\n",
        "\n",
        "classifiers_list = []\n",
        "y_score_dict = {}\n",
        "\n",
        "for key, value in models_list.items():\n",
        "    classifier = Pipeline([\n",
        "        ('features',feats),\n",
        "        ('classifier', value),\n",
        "    ])\n",
        "    classifiers_list.append(classifier)\n",
        "\n",
        "    #запустим кросс-валидацию\n",
        "    cv_scores = cross_val_score(classifier, X_train, y_train, cv=6, scoring='roc_auc')\n",
        "    cv_score = np.mean(cv_scores)\n",
        "    cv_score_std = np.std(cv_scores)\n",
        "  \n",
        "    print(f'{key}.\\tCV score is {cv_score}.\\tCV score_std is {cv_score_std}')\n",
        "\n",
        "    #обучим пайплайн на всем тренировочном датасете\n",
        "    classifier.fit(X_train, y_train)\n",
        "    y_score_dict[key] = classifier.predict_proba(X_test)[:, 1]"
      ],
      "execution_count": 10,
      "outputs": [
        {
          "output_type": "stream",
          "text": [
            "LogisticReg.\tCV score is 0.7844374123135694.\tCV score_std is 0.005286474572634387\n",
            "RandomForest.\tCV score is 0.775500216390547.\tCV score_std is 0.002836899882861481\n",
            "GradientBoosting.\tCV score is 0.8023377962657184.\tCV score_std is 0.004150757612691979\n"
          ],
          "name": "stdout"
        }
      ]
    },
    {
      "cell_type": "code",
      "metadata": {
        "id": "p-ri22IvOXJy"
      },
      "source": [
        "def calc_metrics(y_test, preds):\n",
        "\n",
        "    precision, recall, thresholds = precision_recall_curve(y_test, preds)\n",
        "    fscore = (2 * precision * recall) / (precision + recall)\n",
        "    \n",
        "    # locate the index of the largest f score\n",
        "    ix = np.argmax(fscore)\n",
        "    \n",
        "    roc_auc = roc_auc_score(y_test, preds)\n",
        "    \n",
        "    return thresholds[ix], fscore[ix], precision[ix], recall[ix], roc_auc"
      ],
      "execution_count": 12,
      "outputs": []
    },
    {
      "cell_type": "code",
      "metadata": {
        "id": "z2KNHxY8Nyuj"
      },
      "source": [
        "metrics = []\n",
        "\n",
        "for key, value in y_score_dict.items():\n",
        "    threshold, fscore, precision, recall, roc_auc = calc_metrics(y_test, value)\n",
        "    metrics.append([threshold, fscore, precision, recall, roc_auc])"
      ],
      "execution_count": 13,
      "outputs": []
    },
    {
      "cell_type": "code",
      "metadata": {
        "colab": {
          "base_uri": "https://localhost:8080/",
          "height": 142
        },
        "id": "VrtzlTphNznH",
        "outputId": "665e7b11-ac98-4d62-b7bc-148ae35cedd5"
      },
      "source": [
        "metrics_df = pd.DataFrame(metrics,\n",
        "                          columns = ['threshold', 'f-score', 'precision', 'recall', 'roc_auc'],\n",
        "                          index = y_score_dict.keys())\n",
        "metrics_df"
      ],
      "execution_count": 14,
      "outputs": [
        {
          "output_type": "execute_result",
          "data": {
            "text/html": [
              "<div>\n",
              "<style scoped>\n",
              "    .dataframe tbody tr th:only-of-type {\n",
              "        vertical-align: middle;\n",
              "    }\n",
              "\n",
              "    .dataframe tbody tr th {\n",
              "        vertical-align: top;\n",
              "    }\n",
              "\n",
              "    .dataframe thead th {\n",
              "        text-align: right;\n",
              "    }\n",
              "</style>\n",
              "<table border=\"1\" class=\"dataframe\">\n",
              "  <thead>\n",
              "    <tr style=\"text-align: right;\">\n",
              "      <th></th>\n",
              "      <th>threshold</th>\n",
              "      <th>f-score</th>\n",
              "      <th>precision</th>\n",
              "      <th>recall</th>\n",
              "      <th>roc_auc</th>\n",
              "    </tr>\n",
              "  </thead>\n",
              "  <tbody>\n",
              "    <tr>\n",
              "      <th>LogisticReg</th>\n",
              "      <td>0.389193</td>\n",
              "      <td>0.728938</td>\n",
              "      <td>0.644507</td>\n",
              "      <td>0.838825</td>\n",
              "      <td>0.781981</td>\n",
              "    </tr>\n",
              "    <tr>\n",
              "      <th>RandomForest</th>\n",
              "      <td>0.350000</td>\n",
              "      <td>0.718863</td>\n",
              "      <td>0.642669</td>\n",
              "      <td>0.815553</td>\n",
              "      <td>0.771037</td>\n",
              "    </tr>\n",
              "    <tr>\n",
              "      <th>GradientBoosting</th>\n",
              "      <td>0.394947</td>\n",
              "      <td>0.740248</td>\n",
              "      <td>0.697848</td>\n",
              "      <td>0.788134</td>\n",
              "      <td>0.802615</td>\n",
              "    </tr>\n",
              "  </tbody>\n",
              "</table>\n",
              "</div>"
            ],
            "text/plain": [
              "                  threshold   f-score  precision    recall   roc_auc\n",
              "LogisticReg        0.389193  0.728938   0.644507  0.838825  0.781981\n",
              "RandomForest       0.350000  0.718863   0.642669  0.815553  0.771037\n",
              "GradientBoosting   0.394947  0.740248   0.697848  0.788134  0.802615"
            ]
          },
          "metadata": {
            "tags": []
          },
          "execution_count": 14
        }
      ]
    },
    {
      "cell_type": "code",
      "metadata": {
        "colab": {
          "base_uri": "https://localhost:8080/",
          "height": 535
        },
        "id": "Hr_QKuefBdwr",
        "outputId": "201ec889-f1ea-4624-b393-36f092896b56"
      },
      "source": [
        "# сделать функцию рок кривая\n",
        "import seaborn as sns\n",
        "import matplotlib.pyplot as plt\n",
        "\n",
        "sns.set(font_scale=1.5)\n",
        "sns.set_color_codes(\"muted\")\n",
        "\n",
        "plt.figure(figsize=(10, 8))\n",
        "fpr2, tpr2, thresholds_ = roc_curve(y_test, y_score_dict[\"RandomForest\"], pos_label=1)\n",
        "fpr3, tpr3, thresholds_ = roc_curve(y_test, y_score_dict[\"LogisticReg\"], pos_label=1)\n",
        "fpr4, tpr4, thresholds_ = roc_curve(y_test, y_score_dict[\"GradientBoosting\"], pos_label=1)\n",
        "lw = 2\n",
        "\n",
        "plt.plot(fpr2, tpr2, lw=lw, label='ROC curve \"RandomForest\"')\n",
        "plt.plot(fpr3, tpr3, lw=lw, label='ROC curve \"LogisticReg\"')\n",
        "plt.plot(fpr4, tpr4, lw=lw, label='ROC curve \"GradientBoosting\"')\n",
        "plt.plot([0, 1], [0, 1])\n",
        "plt.xlim([0.0, 1.0])\n",
        "plt.ylim([0.0, 1.05])\n",
        "plt.xlabel('False Positive Rate')\n",
        "plt.ylabel('True Positive Rate')\n",
        "plt.title('ROC curve')\n",
        "plt.legend()\n",
        "plt.savefig(\"ROC.png\")\n",
        "plt.show()"
      ],
      "execution_count": 15,
      "outputs": [
        {
          "output_type": "display_data",
          "data": {
            "image/png": "[encoded data removed]",
            "text/plain": [
              "<Figure size 720x576 with 1 Axes>"
            ]
          },
          "metadata": {
            "tags": []
          }
        }
      ]
    },
    {
      "cell_type": "markdown",
      "metadata": {
        "id": "YhKeoySktxqT"
      },
      "source": [
        "вывести сравнение полученных моделей по основным метрикам классификации: pr/rec/auc/f_score (можно в виде таблицы, где строки - модели, а столбцы - метрики)\n",
        "сделать выводы о том, какая модель справилась с задачей лучше других\n",
        "\n",
        "**Выводы: Бустинг справился лучше других. только по recall лучше лог. регрессия, то есть если для бизнеса важнее recall, можно выбрать лог. регрессию.**"
      ]
    },
    {
      "cell_type": "markdown",
      "metadata": {
        "id": "9PsM9ZG9tarX"
      },
      "source": [
        "(опциональный вопрос) какая метрика (precision_recall_curve или roc_auc_curve) больше подходит в случае сильного дисбаланса классов? (когда объектов одного из классов намного больше чем другого).\n",
        "p.s.В вопросе проще разобраться, если вспомнить оси на графике roc auc curve и рассмотреть такой пример:\n",
        "\n",
        "Имеется 100000 объектов, из которых только 100 - класс \"1\" (99900 - класс \"0\", соответственно). Допустим, у нас две модели:\n",
        "\n",
        "первая помечает 100 объектов как класс 1, но TP = 90\n",
        "\n",
        "вторая помечает 1000 объектов как класс 1, но TP такой же - 90\n",
        "Какая модель лучше и почему? И что позволяет легче сделать вывод - roc_auc_curve или precision_recall_curve?\n",
        "\n",
        "**Ответ: здесь дисбаланс классов большой, поэтому precision_recall_curve здесь будет лучше, так как в она не учитывает TRUE NEGATIVE то есть то, что и является дисбалансом, большим числом. \n",
        "так как в расчетах precision и recall TN не используется, сравнение будет более верным, чем по roc_auc_curve, которая учитывает TN.**"
      ]
    },
    {
      "cell_type": "markdown",
      "metadata": {
        "id": "QlLbj7seYAVq"
      },
      "source": [
        "6. (опциональный вопрос) Найти порог классификации по деньгам (Стоимость лечения 15000 р, если сделали тест и начали лечить вовремя. Стоимость лечения 20000, если упустили и начали лечить когда уже проявились все симптомы. Стоимость теста 1400 р)"
      ]
    },
    {
      "cell_type": "code",
      "metadata": {
        "colab": {
          "base_uri": "https://localhost:8080/"
        },
        "id": "h85UK-z2u8xp",
        "outputId": "e52a4f40-af5e-4bb9-cf3a-e5ecaa5c84d3"
      },
      "source": [
        "# порог, найденный расчетными методами (максимизировали f_score)(модель градиентного бустинга)\n",
        "\n",
        "opt_treshold = metrics[2][0]\n",
        "opt_treshold"
      ],
      "execution_count": 33,
      "outputs": [
        {
          "output_type": "execute_result",
          "data": {
            "text/plain": [
              "0.39494659702686624"
            ]
          },
          "metadata": {
            "tags": []
          },
          "execution_count": 33
        }
      ]
    },
    {
      "cell_type": "code",
      "metadata": {
        "id": "GgKoasdnxDXs"
      },
      "source": [
        "def plot_confusion_matrix(cm, classes,\n",
        "                          normalize=False,\n",
        "                          title='Confusion matrix',\n",
        "                          cmap=plt.cm.Blues):\n",
        "    \"\"\"\n",
        "    This function prints and plots the confusion matrix.\n",
        "    Normalization can be applied by setting `normalize=True`.\n",
        "    \"\"\"\n",
        "    plt.imshow(cm, interpolation='nearest', cmap=cmap)\n",
        "    plt.title(title)\n",
        "    plt.colorbar()\n",
        "    tick_marks = np.arange(len(classes))\n",
        "    plt.xticks(tick_marks, classes, rotation=45)\n",
        "    plt.yticks(tick_marks, classes)\n",
        "\n",
        "    if normalize:\n",
        "        cm = cm.astype('float') / cm.sum(axis=1)[:, np.newaxis]\n",
        "        print(\"Normalized confusion matrix\")\n",
        "    else:\n",
        "        print('Confusion matrix, without normalization')\n",
        "\n",
        "    print(cm)\n",
        "\n",
        "    thresh = cm.max() / 2.\n",
        "    for i, j in itertools.product(range(cm.shape[0]), range(cm.shape[1])):\n",
        "        plt.text(j, i, cm[i, j],\n",
        "                 horizontalalignment=\"center\",\n",
        "                 color=\"white\" if cm[i, j] > thresh else \"black\")\n",
        "\n",
        "    plt.tight_layout()\n",
        "    plt.ylabel('True label')\n",
        "    plt.xlabel('Predicted label')"
      ],
      "execution_count": 22,
      "outputs": []
    },
    {
      "cell_type": "code",
      "metadata": {
        "colab": {
          "base_uri": "https://localhost:8080/",
          "height": 647
        },
        "id": "OUevKvPTBv0E",
        "outputId": "438276c4-463c-48d5-eb6e-0a299aa8036a"
      },
      "source": [
        "font = {'size' : 15}\n",
        "\n",
        "plt.rc('font', **font)\n",
        "\n",
        "business_threshold = 1  # подберем порог для улучшения бизнесс показателя\n",
        "\n",
        "cnf_matrix = confusion_matrix(y_test, y_score_dict['GradientBoosting']>opt_treshold*business_threshold)\n",
        "plt.figure(figsize=(10, 8))\n",
        "plot_confusion_matrix(cnf_matrix, classes=['cardio_0', 'cardio_1'],\n",
        "                      title='Confusion matrix')\n",
        "plt.savefig(\"conf_matrix.png\")\n",
        "plt.show()"
      ],
      "execution_count": 34,
      "outputs": [
        {
          "output_type": "stream",
          "text": [
            "Confusion matrix, without normalization\n",
            "[[5858 2962]\n",
            " [1840 6840]]\n"
          ],
          "name": "stdout"
        },
        {
          "output_type": "display_data",
          "data": {
            "image/png": "[encoded data removed]",
            "text/plain": [
              "<Figure size 720x576 with 2 Axes>"
            ]
          },
          "metadata": {
            "tags": []
          }
        }
      ]
    },
    {
      "cell_type": "code",
      "metadata": {
        "id": "UeEpsAtIxX7_"
      },
      "source": [
        "#Посчитаем FPR, TPR\n",
        "TN = cnf_matrix[0][0]\n",
        "FN = cnf_matrix[1][0]\n",
        "TP = cnf_matrix[1][1]\n",
        "FP = cnf_matrix[0][1]"
      ],
      "execution_count": 43,
      "outputs": []
    },
    {
      "cell_type": "code",
      "metadata": {
        "colab": {
          "base_uri": "https://localhost:8080/"
        },
        "id": "pwHZvO-kB3NU",
        "outputId": "212a0d7e-242d-476b-c4dc-e0d53216963a"
      },
      "source": [
        "#Посчитаем нужные нам метрики\n",
        "\n",
        "TPR = TP/(TP+FN)\n",
        "FPR = FP/(FP+TN)\n",
        "TNR = TN/(FP+TN)\n",
        "TPR, FPR, TNR"
      ],
      "execution_count": 44,
      "outputs": [
        {
          "output_type": "execute_result",
          "data": {
            "text/plain": [
              "(0.7880184331797235, 0.33582766439909295, 0.664172335600907)"
            ]
          },
          "metadata": {
            "tags": []
          },
          "execution_count": 44
        }
      ]
    },
    {
      "cell_type": "code",
      "metadata": {
        "id": "9fkxZ3tlykfS"
      },
      "source": [
        "False Positive Rate довольно высокий ~ 0.335.\n",
        "\n",
        "Это означает, что 33,5 процентов всех пациентов получат метку 1 при том, что они на самом деле здоровы\n",
        "\n",
        "Хорошая ли модель у нас получилась? - ответ сильно зависит от внешних факторов (какое количество FP мы можем допустить)\n",
        "\n",
        "Исходные данные:\n",
        "стоимость лечения 15000 р, если сделали тест и начали лечить вовремя\n",
        "стоимость лечения 20000, если упустили и начали лечить когда уже проявились все симптомы\n",
        "стоимость теста 1400 р\n",
        "\n",
        "лишних тестов сделали FP = cnf_matrix[0][1]\n",
        "пропустили больных FN = cnf_matrix[1][0]\n",
        "правильных тестов сделали TP = cnf_matrix[1][1]\n",
        "Оценим расходы, если не делать тест и ждать симптомов:"
      ],
      "execution_count": null,
      "outputs": []
    },
    {
      "cell_type": "code",
      "metadata": {
        "id": "sYH_lDfdzaec"
      },
      "source": [
        "rubl_to_test = 1400\n",
        "rubl_to_early_treatment = 15000\n",
        "rubl_to_late_treatment = 20000"
      ],
      "execution_count": 41,
      "outputs": []
    },
    {
      "cell_type": "code",
      "metadata": {
        "colab": {
          "base_uri": "https://localhost:8080/"
        },
        "id": "FMRqKrcyzfBv",
        "outputId": "a0dd8570-eb8d-4df2-c1ba-1e49829d7515"
      },
      "source": [
        "import humanize\n",
        "rubl_1 = (FN+TP) * rubl_to_late_treatment\n",
        "print('расходы, если не делать тест и ждать симптомов:',humanize.intcomma(rubl_1))"
      ],
      "execution_count": 50,
      "outputs": [
        {
          "output_type": "stream",
          "text": [
            "расходы, если не делать тест и ждать симптомов: 173,600,000\n"
          ],
          "name": "stdout"
        }
      ]
    },
    {
      "cell_type": "code",
      "metadata": {
        "colab": {
          "base_uri": "https://localhost:8080/"
        },
        "id": "LOceAP-nzvqm",
        "outputId": "f2ae6887-0fba-4c80-9cd8-087d80b5408f"
      },
      "source": [
        "rubl_all_test = np.sum(cnf_matrix) * rubl_to_test + (FN+TP) * rubl_to_early_treatment\n",
        "print('расходы, если делать тест всем и лечить группу большых:',humanize.intcomma(rubl_all_test))"
      ],
      "execution_count": 51,
      "outputs": [
        {
          "output_type": "stream",
          "text": [
            "расходы, если делать тест всем и лечить группу большых: 154,700,000\n"
          ],
          "name": "stdout"
        }
      ]
    },
    {
      "cell_type": "code",
      "metadata": {
        "colab": {
          "base_uri": "https://localhost:8080/"
        },
        "id": "H_te5ACC2VTk",
        "outputId": "1ca75cf2-70b2-420a-f294-d5a1bbc73a6f"
      },
      "source": [
        "rubl_ML = (FP+TP) * rubl_to_test + FN * rubl_to_late_treatment + TP * rubl_to_early_treatment\n",
        "print('расходы, если не делать тест и ждать симптомов:',humanize.intcomma(rubl_ML))"
      ],
      "execution_count": 54,
      "outputs": [
        {
          "output_type": "stream",
          "text": [
            "расходы, если не делать тест и ждать симптомов: 153,122,800\n"
          ],
          "name": "stdout"
        }
      ]
    },
    {
      "cell_type": "code",
      "metadata": {
        "colab": {
          "base_uri": "https://localhost:8080/"
        },
        "id": "kIK5bR8T2-8m",
        "outputId": "530a36a3-f604-4123-b4a9-cd3e641a7ee3"
      },
      "source": [
        "print(' Расходы при решении не делать тесты - расходы с МL :',humanize.intcomma(rubl_1 - rubl_ML) )\n",
        "print(' Расходы при решении не делать тесты - расходы ссделать тесты всем  :',humanize.intcomma(rubl_1 - rubl_all_test) )\n",
        "print(' Расходы сделать тесты всем - решение делать тесты ML  :',humanize.intcomma(rubl_all_test - rubl_ML) )"
      ],
      "execution_count": 56,
      "outputs": [
        {
          "output_type": "stream",
          "text": [
            " Расходы при решении не делать тесты - расходы с МL : 20,477,200\n",
            " Расходы при решении не делать тесты - расходы ссделать тесты всем  : 18,900,000\n",
            " Расходы сделать тесты всем - решение делать тесты ML  : 1,577,200\n"
          ],
          "name": "stdout"
        }
      ]
    },
    {
      "cell_type": "code",
      "metadata": {
        "id": "-yO2y5n43OgM"
      },
      "source": [
        "Метрика по деньгам : получить меньше расходов чем при полном тесте\n",
        "\n",
        "Расходы на тестирование всех и лечение при ранней диагностике - расходы на ML тест и лечение при ранней диагностике группы TP и поздней диагностике группы FN"
      ],
      "execution_count": null,
      "outputs": []
    },
    {
      "cell_type": "code",
      "metadata": {
        "id": "nw2M3Vvs3P41"
      },
      "source": [
        "def business_threshold_calibrate(y_test, y_score, thresholds,rubl_to_test = 100, rubl_to_early_treatment = 100, rubl_to_late_treatment = 1000):\n",
        "    business_threshold = 0\n",
        "    r1_r2_ = 0\n",
        "    r1_r3_ = 0\n",
        "    r2_r3_ = 0\n",
        "    rubl_1_ = - 10000000 \n",
        "    rubl_all_test_ = - 10000000 \n",
        "    rubl_ML_ = - 10000000 \n",
        "\n",
        "    r2 = []\n",
        "    n = 20\n",
        "    for opt_buisness_tr in np.linspace(0,1,n).tolist():\n",
        "        # подберем порог для улучшения бизнесс показателя\n",
        "\n",
        "        cnf_matrix = confusion_matrix(y_test, y_score > ( opt_buisness_tr))\n",
        "        #print(cnf_matrix )\n",
        "        rubl_1 = ((cnf_matrix[1][1]+cnf_matrix[1][0])) * rubl_to_late_treatment\n",
        "\n",
        "        rubl_all_test = np.sum(cnf_matrix) * rubl_to_test + ((cnf_matrix[1][0]+cnf_matrix[1][1])) * rubl_to_early_treatment\n",
        "\n",
        "        rubl_ML = ((cnf_matrix[1][1]+cnf_matrix[0][1])) * rubl_to_test + np.sum(cnf_matrix[1][0]) * rubl_to_late_treatment + (cnf_matrix[1][1]) * rubl_to_early_treatment\n",
        "       \n",
        "        r2_r3 = rubl_all_test - rubl_ML \n",
        "        \n",
        "        r1_r2 = rubl_1 - rubl_all_test\n",
        "        r1_r3 = rubl_1 - rubl_ML\n",
        "        #print(opt_buisness_tr, r2_r3)\n",
        "        if (r2_r3_ < r2_r3):\n",
        "            \n",
        "            business_threshold = opt_buisness_tr\n",
        "            r1_r2_ = r1_r2\n",
        "            r1_r3_ = r1_r3\n",
        "            r2_r3_ = r2_r3\n",
        "            rubl_1_ = rubl_1\n",
        "            rubl_all_test_ = rubl_all_test\n",
        "            rubl_ML_ = rubl_ML\n",
        "            \n",
        "        r2.append(r2_r3)   \n",
        "            \n",
        "    \n",
        "    print('расходы, если не делать тест и ждать симптомов:',humanize.intcomma(rubl_1_))\n",
        "    print('расходы, если делать тест всем и лечить группу большых:',humanize.intcomma(rubl_all_test_))\n",
        "    print('расходы, если не делать тест и ждать симптомов:',humanize.intcomma(rubl_ML_))\n",
        "    print(' Расходы при решении не делать тесты - расходы с МL :',humanize.intcomma(r1_r3_ ))\n",
        "    print(' Расходы при решении не делать тесты - расходы ссделать тесты всем  :',humanize.intcomma(r1_r2_ ))\n",
        "    print(' Расходы сделать тесты всем - решение делать тесты ML  :',humanize.intcomma(r2_r3_ ))\n",
        "    plt.plot(np.linspace(0,1,n),r2)\n",
        "    plt.show()\n",
        "    return business_threshold\n",
        "    "
      ],
      "execution_count": 60,
      "outputs": []
    },
    {
      "cell_type": "code",
      "metadata": {
        "colab": {
          "base_uri": "https://localhost:8080/",
          "height": 429
        },
        "id": "q0UuWC1v3kfv",
        "outputId": "f4da4be2-aa05-4281-a00f-7df3ce69b1b6"
      },
      "source": [
        "BUisnes_tr = business_threshold_calibrate(y_test, y_score_dict['GradientBoosting'], \n",
        "                                          opt_treshold,\n",
        "                                          rubl_to_test = 1400, \n",
        "                                          rubl_to_early_treatment = 15000, \n",
        "                                          rubl_to_late_treatment = 20000)\n",
        "print('уровень порога по бизнес метрике',BUisnes_tr)\n",
        "print('уровень порога по f1 метрике',opt_treshold)"
      ],
      "execution_count": 61,
      "outputs": [
        {
          "output_type": "stream",
          "text": [
            "расходы, если не делать тест и ждать симптомов: 173,600,000\n",
            "расходы, если делать тест всем и лечить группу большых: 154,700,000\n",
            "расходы, если не делать тест и ждать симптомов: 152,333,600\n",
            " Расходы при решении не делать тесты - расходы с МL : 21,266,400\n",
            " Расходы при решении не делать тесты - расходы ссделать тесты всем  : 18,900,000\n",
            " Расходы сделать тесты всем - решение делать тесты ML  : 2,366,400\n"
          ],
          "name": "stdout"
        },
        {
          "output_type": "display_data",
          "data": {
            "image/png": "[encoded data removed]",
            "text/plain": [
              "<Figure size 432x288 with 1 Axes>"
            ]
          },
          "metadata": {
            "tags": []
          }
        },
        {
          "output_type": "stream",
          "text": [
            "уровень порога по бизнес метрике 0.2631578947368421\n",
            "уровень порога по f1 метрике 0.39494659702686624\n"
          ],
          "name": "stdout"
        }
      ]
    }
  ]
}